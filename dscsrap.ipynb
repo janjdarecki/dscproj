{
 "cells": [
  {
   "cell_type": "code",
   "execution_count": 2,
   "id": "f1fd8c58-6871-40bb-b3b6-73257c37b1b0",
   "metadata": {},
   "outputs": [
    {
     "name": "stderr",
     "output_type": "stream",
     "text": [
      "/opt/conda/lib/python3.9/site-packages/statsmodels/compat/pandas.py:65: FutureWarning: pandas.Int64Index is deprecated and will be removed from pandas in a future version. Use pandas.Index with the appropriate dtype instead.\n",
      "  from pandas import Int64Index as NumericIndex\n"
     ]
    }
   ],
   "source": [
    "from __future__ import absolute_import, division, print_function, unicode_literals\n",
    "\n",
    "import numpy as np\n",
    "import pandas as pd\n",
    "import seaborn as sns\n",
    "from scipy import optimize\n",
    "import pymc3 as pm\n",
    "import statsmodels.api as sm # check the error that cannot import name 'factorial' in from scipy.misc import factorial\n",
    "import statsmodels.formula.api as smf\n",
    "import matplotlib.pyplot as plt\n",
    "import tensorflow as tf\n",
    "import altair as alt\n",
    "# from linearmodels.iv import IV2SLS\n",
    "from tensorflow.keras import datasets, layers, models\n",
    "from tensorflow import keras"
   ]
  },
  {
   "cell_type": "code",
   "execution_count": null,
   "id": "0161f006-eeb9-4e12-9c7b-d8cf97268b6e",
   "metadata": {},
   "outputs": [],
   "source": [
    "cpi = pd.read_csv(\"https://raw.githubusercontent.com/timider/dscproj/main/CPI.csv\")\n",
    "ppico = pd.read_csv(\"https://raw.githubusercontent.com/timider/dscproj/main/PPICO.csv\")\n",
    "ppimanu = pd.read_csv(\"https://raw.githubusercontent.com/timider/dscproj/main/PPIMANU.csv\")\n",
    "gdp = pd.read_csv(\"https://raw.githubusercontent.com/timider/dscproj/main/GDPCR.csv\")\n",
    "unemp = pd.read_csv(\"https://raw.githubusercontent.com/timider/dscproj/main/UNRATE.csv\")\n",
    "govspend = pd.read_csv(\"https://raw.githubusercontent.com/timider/dscproj/main/FGEXPND.csv\")"
   ]
  },
  {
   "cell_type": "code",
   "execution_count": null,
   "id": "accb1d12-bcd7-4c84-b4e8-27ffc186409e",
   "metadata": {},
   "outputs": [],
   "source": [
    "aaa = pd.read_csv(\"https://raw.githubusercontent.com/timider/dscproj/main/AAA.csv\")\n",
    "bbb = pd.read_csv(\"https://raw.githubusercontent.com/timider/dscproj/main/BBB.csv\")\n",
    "effr = pd.read_csv(\"https://raw.githubusercontent.com/timider/dscproj/main/EFFR.csv\")\n",
    "ts10 = pd.read_csv(\"https://raw.githubusercontent.com/timider/dscproj/main/TS10.csv\")"
   ]
  },
  {
   "cell_type": "code",
   "execution_count": null,
   "id": "423255ef-7199-4dd5-bb63-e984dc7f52aa",
   "metadata": {},
   "outputs": [],
   "source": [
    "df = pd.merge(cpi, ppico, how='inner', on='DATE')\n",
    "df = pd.merge(df, ppimanu, how='inner', on='DATE')\n",
    "df = pd.merge(df, gdp, how='inner', on='DATE')\n",
    "df = pd.merge(df, unemp, how='inner', on='DATE')\n",
    "df = pd.merge(df, govspend, how='inner', on='DATE')\n",
    "df = pd.merge(df, aaa, how='inner', on='DATE')\n",
    "df = pd.merge(df, bbb, how='inner', on='DATE')\n",
    "df = pd.merge(df, effr, how='inner', on='DATE')\n",
    "df = pd.merge(df, ts10, how='inner', on='DATE')"
   ]
  },
  {
   "cell_type": "code",
   "execution_count": null,
   "id": "18b3ba28-648a-4072-be78-bd5af08a8a5e",
   "metadata": {},
   "outputs": [],
   "source": [
    "df = df.rename({\n",
    "    'PPI_CO':'PPICO',\n",
    "    'CPIAUCSL_PC1':'CPI',\n",
    "    'PCUOMFGOMFG_PC1':'PPIMANU',\n",
    "    'GDPC1_PC1':'GDP',\n",
    "    'UNRATE':'U',\n",
    "    'FGEXPND_PC1':'GOVSPEND',\n",
    "    'BAMLC0A4CBBBEY':'BBB',\n",
    "    'DGS10':'BOND10'\n",
    "    \n",
    "}, axis='columns')"
   ]
  },
  {
   "cell_type": "code",
   "execution_count": null,
   "id": "5ccd86ac-cb84-4f45-bf95-2cae33bcf160",
   "metadata": {},
   "outputs": [],
   "source": [
    "cpi.nunique()"
   ]
  },
  {
   "cell_type": "code",
   "execution_count": null,
   "id": "65761829-c016-4036-b3df-1f17a89b220f",
   "metadata": {},
   "outputs": [],
   "source": [
    "cpi = cpi.rename(columns={'CPIAUCSL_PC1':'CPI'})\n",
    "cpi.head()"
   ]
  },
  {
   "cell_type": "code",
   "execution_count": 14,
   "id": "e748fae1-d078-4f3a-9071-88afc165a555",
   "metadata": {},
   "outputs": [
    {
     "data": {
      "text/plain": [
       "pandas.core.series.Series"
      ]
     },
     "execution_count": 14,
     "metadata": {},
     "output_type": "execute_result"
    }
   ],
   "source": [
    "type(cpi['DATE'])"
   ]
  },
  {
   "cell_type": "code",
   "execution_count": 17,
   "id": "df5aeb31-4b6a-4160-8127-1dd08bd0bcaf",
   "metadata": {},
   "outputs": [
    {
     "data": {
      "text/plain": [
       "[<matplotlib.lines.Line2D at 0x7fbc7f2c0310>]"
      ]
     },
     "execution_count": 17,
     "metadata": {},
     "output_type": "execute_result"
    },
    {
     "data": {
      "image/png": "[encoded data removed]",
      "text/plain": [
       "<Figure size 432x288 with 1 Axes>"
      ]
     },
     "metadata": {
      "needs_background": "light"
     },
     "output_type": "display_data"
    }
   ],
   "source": [
    "plt.plot(cpi['DATE'], cpi['CPI'])"
   ]
  },
  {
   "cell_type": "code",
   "execution_count": 18,
   "id": "d7405498-2d88-4a39-aee8-5b79b35f47b1",
   "metadata": {},
   "outputs": [
    {
     "data": {
      "text/html": [
       "<div>\n",
       "<style scoped>\n",
       "    .dataframe tbody tr th:only-of-type {\n",
       "        vertical-align: middle;\n",
       "    }\n",
       "\n",
       "    .dataframe tbody tr th {\n",
       "        vertical-align: top;\n",
       "    }\n",
       "\n",
       "    .dataframe thead th {\n",
       "        text-align: right;\n",
       "    }\n",
       "</style>\n",
       "<table border=\"1\" class=\"dataframe\">\n",
       "  <thead>\n",
       "    <tr style=\"text-align: right;\">\n",
       "      <th></th>\n",
       "      <th>DATE</th>\n",
       "      <th>PPIACO_PC1</th>\n",
       "    </tr>\n",
       "  </thead>\n",
       "  <tbody>\n",
       "    <tr>\n",
       "      <th>0</th>\n",
       "      <td>2000-07-01</td>\n",
       "      <td>5.23438</td>\n",
       "    </tr>\n",
       "    <tr>\n",
       "      <th>1</th>\n",
       "      <td>2000-10-01</td>\n",
       "      <td>6.57277</td>\n",
       "    </tr>\n",
       "    <tr>\n",
       "      <th>2</th>\n",
       "      <td>2001-01-01</td>\n",
       "      <td>3.89908</td>\n",
       "    </tr>\n",
       "    <tr>\n",
       "      <th>3</th>\n",
       "      <td>2001-04-01</td>\n",
       "      <td>1.27055</td>\n",
       "    </tr>\n",
       "    <tr>\n",
       "      <th>4</th>\n",
       "      <td>2001-07-01</td>\n",
       "      <td>-1.03935</td>\n",
       "    </tr>\n",
       "  </tbody>\n",
       "</table>\n",
       "</div>"
      ],
      "text/plain": [
       "         DATE  PPIACO_PC1\n",
       "0  2000-07-01     5.23438\n",
       "1  2000-10-01     6.57277\n",
       "2  2001-01-01     3.89908\n",
       "3  2001-04-01     1.27055\n",
       "4  2001-07-01    -1.03935"
      ]
     },
     "execution_count": 18,
     "metadata": {},
     "output_type": "execute_result"
    }
   ],
   "source": [
    "ppico.head()"
   ]
  },
  {
   "cell_type": "code",
   "execution_count": 19,
   "id": "b61f1457-5a81-4e36-a6df-d0adc7eecc68",
   "metadata": {},
   "outputs": [
    {
     "data": {
      "text/html": [
       "<div>\n",
       "<style scoped>\n",
       "    .dataframe tbody tr th:only-of-type {\n",
       "        vertical-align: middle;\n",
       "    }\n",
       "\n",
       "    .dataframe tbody tr th {\n",
       "        vertical-align: top;\n",
       "    }\n",
       "\n",
       "    .dataframe thead th {\n",
       "        text-align: right;\n",
       "    }\n",
       "</style>\n",
       "<table border=\"1\" class=\"dataframe\">\n",
       "  <thead>\n",
       "    <tr style=\"text-align: right;\">\n",
       "      <th></th>\n",
       "      <th>DATE</th>\n",
       "      <th>PPI_CO</th>\n",
       "    </tr>\n",
       "  </thead>\n",
       "  <tbody>\n",
       "    <tr>\n",
       "      <th>0</th>\n",
       "      <td>2000-07-01</td>\n",
       "      <td>5.23438</td>\n",
       "    </tr>\n",
       "    <tr>\n",
       "      <th>1</th>\n",
       "      <td>2000-10-01</td>\n",
       "      <td>6.57277</td>\n",
       "    </tr>\n",
       "    <tr>\n",
       "      <th>2</th>\n",
       "      <td>2001-01-01</td>\n",
       "      <td>3.89908</td>\n",
       "    </tr>\n",
       "    <tr>\n",
       "      <th>3</th>\n",
       "      <td>2001-04-01</td>\n",
       "      <td>1.27055</td>\n",
       "    </tr>\n",
       "    <tr>\n",
       "      <th>4</th>\n",
       "      <td>2001-07-01</td>\n",
       "      <td>-1.03935</td>\n",
       "    </tr>\n",
       "  </tbody>\n",
       "</table>\n",
       "</div>"
      ],
      "text/plain": [
       "         DATE   PPI_CO\n",
       "0  2000-07-01  5.23438\n",
       "1  2000-10-01  6.57277\n",
       "2  2001-01-01  3.89908\n",
       "3  2001-04-01  1.27055\n",
       "4  2001-07-01 -1.03935"
      ]
     },
     "execution_count": 19,
     "metadata": {},
     "output_type": "execute_result"
    }
   ],
   "source": [
    "ppico = ppico.rename(columns={'PPIACO_PC1':'PPI_CO'})\n",
    "ppico.head()"
   ]
  },
  {
   "cell_type": "code",
   "execution_count": 22,
   "id": "86d68479-0500-43a3-bb35-bafbf51cac0f",
   "metadata": {},
   "outputs": [],
   "source": [
    "ppico[\"DATE\"] = pd.to_datetime(ppico[\"DATE\"])"
   ]
  },
  {
   "cell_type": "code",
   "execution_count": 23,
   "id": "6237c852-f4f5-47f7-a131-ac430633fa5c",
   "metadata": {},
   "outputs": [
    {
     "data": {
      "text/plain": [
       "[<matplotlib.lines.Line2D at 0x7fbc7f208ac0>]"
      ]
     },
     "execution_count": 23,
     "metadata": {},
     "output_type": "execute_result"
    },
    {
     "data": {
      "image/png": "[encoded data removed]",
      "text/plain": [
       "<Figure size 432x288 with 1 Axes>"
      ]
     },
     "metadata": {
      "needs_background": "light"
     },
     "output_type": "display_data"
    }
   ],
   "source": [
    "plt.plot(ppico['DATE'], ppico['PPI_CO'])"
   ]
  },
  {
   "cell_type": "code",
   "execution_count": 1,
   "id": "687b74eb-f32f-4a42-afa1-9ea05ea1742c",
   "metadata": {},
   "outputs": [
    {
     "ename": "NameError",
     "evalue": "name 'df' is not defined",
     "output_type": "error",
     "traceback": [
      "\u001b[0;31m---------------------------------------------------------------------------\u001b[0m",
      "\u001b[0;31mNameError\u001b[0m                                 Traceback (most recent call last)",
      "Input \u001b[0;32mIn [1]\u001b[0m, in \u001b[0;36m<module>\u001b[0;34m\u001b[0m\n\u001b[0;32m----> 1\u001b[0m df_x \u001b[38;5;241m=\u001b[39m \u001b[43mdf\u001b[49m[[\u001b[38;5;124m'\u001b[39m\u001b[38;5;124mAAA\u001b[39m\u001b[38;5;124m'\u001b[39m, \u001b[38;5;124m'\u001b[39m\u001b[38;5;124mBBB\u001b[39m\u001b[38;5;124m'\u001b[39m, \u001b[38;5;124m'\u001b[39m\u001b[38;5;124mBOND10\u001b[39m\u001b[38;5;124m'\u001b[39m, \u001b[38;5;124m'\u001b[39m\u001b[38;5;124mGDP\u001b[39m\u001b[38;5;124m'\u001b[39m, \u001b[38;5;124m'\u001b[39m\u001b[38;5;124mGOVSPEND\u001b[39m\u001b[38;5;124m'\u001b[39m, \u001b[38;5;124m'\u001b[39m\u001b[38;5;124mPPICO\u001b[39m\u001b[38;5;124m'\u001b[39m, \u001b[38;5;124m'\u001b[39m\u001b[38;5;124mPPIMANU\u001b[39m\u001b[38;5;124m'\u001b[39m, \u001b[38;5;124m'\u001b[39m\u001b[38;5;124mPROD\u001b[39m\u001b[38;5;124m'\u001b[39m, \u001b[38;5;124m'\u001b[39m\u001b[38;5;124mS\u001b[39m\u001b[38;5;124m'\u001b[39m, \u001b[38;5;124m'\u001b[39m\u001b[38;5;124mU\u001b[39m\u001b[38;5;124m'\u001b[39m]]\n\u001b[1;32m      2\u001b[0m dfst \u001b[38;5;241m=\u001b[39m df[[\u001b[38;5;124m'\u001b[39m\u001b[38;5;124mAAA\u001b[39m\u001b[38;5;124m'\u001b[39m, \u001b[38;5;124m'\u001b[39m\u001b[38;5;124mBBB\u001b[39m\u001b[38;5;124m'\u001b[39m, \u001b[38;5;124m'\u001b[39m\u001b[38;5;124mBOND10\u001b[39m\u001b[38;5;124m'\u001b[39m, \u001b[38;5;124m'\u001b[39m\u001b[38;5;124mGDP\u001b[39m\u001b[38;5;124m'\u001b[39m, \u001b[38;5;124m'\u001b[39m\u001b[38;5;124mGOVSPEND\u001b[39m\u001b[38;5;124m'\u001b[39m, \u001b[38;5;124m'\u001b[39m\u001b[38;5;124mPPICO\u001b[39m\u001b[38;5;124m'\u001b[39m, \u001b[38;5;124m'\u001b[39m\u001b[38;5;124mPPIMANU\u001b[39m\u001b[38;5;124m'\u001b[39m, \u001b[38;5;124m'\u001b[39m\u001b[38;5;124mPROD\u001b[39m\u001b[38;5;124m'\u001b[39m, \u001b[38;5;124m'\u001b[39m\u001b[38;5;124mS\u001b[39m\u001b[38;5;124m'\u001b[39m, \u001b[38;5;124m'\u001b[39m\u001b[38;5;124mU\u001b[39m\u001b[38;5;124m'\u001b[39m]] \u001b[38;5;241m=\u001b[39m (df_x\u001b[38;5;241m-\u001b[39mdf_x\u001b[38;5;241m.\u001b[39mmean())\u001b[38;5;241m/\u001b[39mdf_x\u001b[38;5;241m.\u001b[39mstd()\n\u001b[1;32m      3\u001b[0m dfst\n",
      "\u001b[0;31mNameError\u001b[0m: name 'df' is not defined"
     ]
    }
   ],
   "source": []
  },
  {
   "cell_type": "code",
   "execution_count": null,
   "id": "b00da44f-45de-4faa-8e41-3689110e9010",
   "metadata": {},
   "outputs": [],
   "source": [
    "dfst['CPI'] = stats.zscore(df['CPI']\n",
    "                           "
   ]
  }
 ],
 "metadata": {
  "kernelspec": {
   "display_name": "Python 3 (ipykernel)",
   "language": "python",
   "name": "python3"
  },
  "language_info": {
   "codemirror_mode": {
    "name": "ipython",
    "version": 3
   },
   "file_extension": ".py",
   "mimetype": "text/x-python",
   "name": "python",
   "nbconvert_exporter": "python",
   "pygments_lexer": "ipython3",
   "version": "3.9.7"
  }
 },
 "nbformat": 4,
 "nbformat_minor": 5
}
